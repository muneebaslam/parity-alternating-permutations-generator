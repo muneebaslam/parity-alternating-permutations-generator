{
 "cells": [
  {
   "cell_type": "code",
   "execution_count": 52,
   "metadata": {},
   "outputs": [],
   "source": [
    "def alternating_parity(n):\n",
    "    \n",
    "    forward = list(range(1, n+1))\n",
    "    backward = forward[::-1]\n",
    "    results = [forward]\n",
    "#   working forward\n",
    "    \n",
    "    for _ in range(n-1):\n",
    "        x = results[-1]\n",
    "        new = x[-1:]+x[:-1]\n",
    "        results.append(new)\n",
    "        \n",
    "    \n",
    "#   working backward\n",
    "    results.append(backward)\n",
    "    for _ in range(n-1):\n",
    "        x = results[-1]\n",
    "        new = x[1:]+x[:1]\n",
    "        results.append(new)\n",
    "    \n",
    "    results.sort()\n",
    "    return results\n",
    "\n"
   ]
  },
  {
   "cell_type": "code",
   "execution_count": 51,
   "metadata": {},
   "outputs": [
    {
     "data": {
      "text/plain": [
       "[[1, 2, 3, 4, 5],\n",
       " [1, 5, 4, 3, 2],\n",
       " [2, 1, 5, 4, 3],\n",
       " [2, 3, 4, 5, 1],\n",
       " [3, 2, 1, 5, 4],\n",
       " [3, 4, 5, 1, 2],\n",
       " [4, 3, 2, 1, 5],\n",
       " [4, 5, 1, 2, 3],\n",
       " [5, 1, 2, 3, 4],\n",
       " [5, 4, 3, 2, 1]]"
      ]
     },
     "execution_count": 51,
     "metadata": {},
     "output_type": "execute_result"
    }
   ],
   "source": [
    "alternating_parity(5)"
   ]
  }
 ],
 "metadata": {
  "kernelspec": {
   "display_name": "Python 3",
   "language": "python",
   "name": "python3"
  },
  "language_info": {
   "codemirror_mode": {
    "name": "ipython",
    "version": 3
   },
   "file_extension": ".py",
   "mimetype": "text/x-python",
   "name": "python",
   "nbconvert_exporter": "python",
   "pygments_lexer": "ipython3",
   "version": "3.8.3"
  }
 },
 "nbformat": 4,
 "nbformat_minor": 4
}
